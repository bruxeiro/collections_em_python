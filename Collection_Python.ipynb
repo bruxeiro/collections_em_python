{
  "nbformat": 4,
  "nbformat_minor": 0,
  "metadata": {
    "colab": {
      "provenance": [],
      "authorship_tag": "ABX9TyPF26s1nL+zgnr4u8jcl5YR",
      "include_colab_link": true
    },
    "kernelspec": {
      "name": "python3",
      "display_name": "Python 3"
    },
    "language_info": {
      "name": "python"
    }
  },
  "cells": [
    {
      "cell_type": "markdown",
      "metadata": {
        "id": "view-in-github",
        "colab_type": "text"
      },
      "source": [
        "<a href=\"https://colab.research.google.com/github/bruxeiro/collections_em_python/blob/main/Collection_Python.ipynb\" target=\"_parent\"><img src=\"https://colab.research.google.com/assets/colab-badge.svg\" alt=\"Open In Colab\"/></a>"
      ]
    },
    {
      "cell_type": "code",
      "execution_count": null,
      "metadata": {
        "id": "UYoYbxiDZ-kF"
      },
      "outputs": [],
      "source": [
        "#Listas com elementos repetidos\n",
        "\n",
        "usuarios_data_sience = [15, 23, 43, 50, 22]\n",
        "usuarios_machine_learning = [12, 15, 43, 22, 37]"
      ]
    },
    {
      "cell_type": "code",
      "source": [
        "#Copiando os dados da lista para a variavel assistiram e usando o extend para\n",
        "#\"appendar\" a outra lista\n",
        "\n",
        "assistiram = usuarios_data_sience.copy()\n",
        "assistiram.extend(usuarios_machine_learning)"
      ],
      "metadata": {
        "id": "otk55J3CaMtx"
      },
      "execution_count": null,
      "outputs": []
    },
    {
      "cell_type": "code",
      "source": [
        "assistiram\n"
      ],
      "metadata": {
        "colab": {
          "base_uri": "https://localhost:8080/"
        },
        "id": "Sc2ec7AxaxJX",
        "outputId": "9cf8482f-4638-436f-ea0c-dcb12c15e317"
      },
      "execution_count": null,
      "outputs": [
        {
          "output_type": "execute_result",
          "data": {
            "text/plain": [
              "[15, 23, 43, 50, 22, 12, 15, 43, 22, 37]"
            ]
          },
          "metadata": {},
          "execution_count": 4
        }
      ]
    },
    {
      "cell_type": "code",
      "source": [
        "len(assistiram)"
      ],
      "metadata": {
        "colab": {
          "base_uri": "https://localhost:8080/"
        },
        "id": "ifCUbi4mayed",
        "outputId": "d74271b7-10b4-43ad-f910-9346a141d4ae"
      },
      "execution_count": null,
      "outputs": [
        {
          "output_type": "execute_result",
          "data": {
            "text/plain": [
              "10"
            ]
          },
          "metadata": {},
          "execution_count": 5
        }
      ]
    },
    {
      "cell_type": "code",
      "source": [
        "#Criando um conjunto usando set()\n",
        "\n",
        "set(assistiram)"
      ],
      "metadata": {
        "colab": {
          "base_uri": "https://localhost:8080/"
        },
        "id": "CZuEYKfnbuWx",
        "outputId": "6a6b2efc-3e46-499f-c7e4-0568c427c40a"
      },
      "execution_count": null,
      "outputs": [
        {
          "output_type": "execute_result",
          "data": {
            "text/plain": [
              "{12, 15, 22, 23, 37, 43, 50}"
            ]
          },
          "metadata": {},
          "execution_count": 6
        }
      ]
    },
    {
      "cell_type": "code",
      "source": [
        "set([1, 2, 3])"
      ],
      "metadata": {
        "colab": {
          "base_uri": "https://localhost:8080/"
        },
        "id": "li5dVFcGb0cs",
        "outputId": "ce85a399-5b75-4055-ca5d-cf69f8522ab6"
      },
      "execution_count": null,
      "outputs": [
        {
          "output_type": "execute_result",
          "data": {
            "text/plain": [
              "{1, 2, 3}"
            ]
          },
          "metadata": {},
          "execution_count": 7
        }
      ]
    },
    {
      "cell_type": "code",
      "source": [
        "#Para criar um conjunto podemos usar {}\n",
        "#Conjuntos são normalmente usados para dados em que a ordem dos valores não\n",
        "# importam\n",
        "\n",
        "{1, 2, 4, 3}"
      ],
      "metadata": {
        "colab": {
          "base_uri": "https://localhost:8080/"
        },
        "id": "tOiX7o3GcAzz",
        "outputId": "738e7466-14cf-4206-bfe3-baa97529b650"
      },
      "execution_count": null,
      "outputs": [
        {
          "output_type": "execute_result",
          "data": {
            "text/plain": [
              "{1, 2, 3, 4}"
            ]
          },
          "metadata": {},
          "execution_count": 8
        }
      ]
    },
    {
      "cell_type": "code",
      "source": [
        "#Se fosse um conjunto, teriamos um erro ao encontrar posição, pois como descrito\n",
        "# anteriormente, a ordem dos valores não é considerada\n",
        "\n",
        "usuarios_machine_learning[3]\n"
      ],
      "metadata": {
        "colab": {
          "base_uri": "https://localhost:8080/"
        },
        "id": "TuuTdT-ucOJu",
        "outputId": "fe85f91a-1d18-41b0-ea0b-57dfda3ba1c6"
      },
      "execution_count": null,
      "outputs": [
        {
          "output_type": "execute_result",
          "data": {
            "text/plain": [
              "22"
            ]
          },
          "metadata": {},
          "execution_count": 9
        }
      ]
    },
    {
      "cell_type": "code",
      "source": [
        "\n",
        "for usuario in set(assistiram):\n",
        "  print(usuario)"
      ],
      "metadata": {
        "colab": {
          "base_uri": "https://localhost:8080/"
        },
        "id": "4g5UB4Efcvcn",
        "outputId": "89401c90-ac34-47b9-fc7e-1dbce7b2de37"
      },
      "execution_count": null,
      "outputs": [
        {
          "output_type": "stream",
          "name": "stdout",
          "text": [
            "37\n",
            "43\n",
            "12\n",
            "15\n",
            "50\n",
            "22\n",
            "23\n"
          ]
        }
      ]
    },
    {
      "cell_type": "code",
      "source": [
        "#Listas com elementos repetidos\n",
        "\n",
        "usuarios_data_sience = {15, 23, 43, 50, 22}\n",
        "usuarios_machine_learning = {12, 15, 43, 22, 37}"
      ],
      "metadata": {
        "id": "ulFAsRjYdImP"
      },
      "execution_count": null,
      "outputs": []
    },
    {
      "cell_type": "code",
      "source": [
        "#Operações de conjuntos usando o \"OU\" (Junção dos dois conjuntos)\n",
        "\n",
        "usuarios_data_sience | usuarios_machine_learning"
      ],
      "metadata": {
        "colab": {
          "base_uri": "https://localhost:8080/"
        },
        "id": "tqtwLRxmdq39",
        "outputId": "1059b9b3-b0bd-4f98-934e-c42fa8c1b29e"
      },
      "execution_count": null,
      "outputs": [
        {
          "output_type": "execute_result",
          "data": {
            "text/plain": [
              "{12, 15, 22, 23, 37, 43, 50}"
            ]
          },
          "metadata": {},
          "execution_count": 12
        }
      ]
    },
    {
      "cell_type": "code",
      "source": [
        "#Verificando elementos iguais presentes nos dois elementos usando o \"&\"\n",
        "\n",
        "usuarios_data_sience & usuarios_machine_learning"
      ],
      "metadata": {
        "colab": {
          "base_uri": "https://localhost:8080/"
        },
        "id": "7ALPnCjkdwcB",
        "outputId": "377ea9db-3bf5-46f5-f6e6-1b8314b5a3ec"
      },
      "execution_count": null,
      "outputs": [
        {
          "output_type": "execute_result",
          "data": {
            "text/plain": [
              "{15, 22, 43}"
            ]
          },
          "metadata": {},
          "execution_count": 13
        }
      ]
    },
    {
      "cell_type": "code",
      "source": [
        "#Verificando e retirando elementos iguais presentes em um elemento usando \"-\"\n",
        "\n",
        "usuarios_data_sience - usuarios_machine_learning"
      ],
      "metadata": {
        "colab": {
          "base_uri": "https://localhost:8080/"
        },
        "id": "0DxHc7DZef5l",
        "outputId": "8bdfb498-ebb1-404d-a30f-48b000fceb57"
      },
      "execution_count": null,
      "outputs": [
        {
          "output_type": "execute_result",
          "data": {
            "text/plain": [
              "{23, 50}"
            ]
          },
          "metadata": {},
          "execution_count": 14
        }
      ]
    },
    {
      "cell_type": "code",
      "source": [
        "usuarios_machine_learning - usuarios_data_sience"
      ],
      "metadata": {
        "colab": {
          "base_uri": "https://localhost:8080/"
        },
        "id": "h4oZdTkgfC1l",
        "outputId": "64e6697d-e968-4f7e-daef-77c8c477f0b0"
      },
      "execution_count": null,
      "outputs": [
        {
          "output_type": "execute_result",
          "data": {
            "text/plain": [
              "{12, 37}"
            ]
          },
          "metadata": {},
          "execution_count": 15
        }
      ]
    },
    {
      "cell_type": "code",
      "source": [
        "#Operação \"OU\"(^) exclusivo, mostra os elementos que apareceram em um conjunto\n",
        "# mas só em um dos juntos\n",
        "\n",
        "usuarios_machine_learning ^ usuarios_data_sience"
      ],
      "metadata": {
        "colab": {
          "base_uri": "https://localhost:8080/"
        },
        "id": "DE6WQDgLfOjj",
        "outputId": "bfe6c080-ffc8-4a74-c7d7-5d1bb0673a3e"
      },
      "execution_count": null,
      "outputs": [
        {
          "output_type": "execute_result",
          "data": {
            "text/plain": [
              "{12, 23, 37, 50}"
            ]
          },
          "metadata": {},
          "execution_count": 16
        }
      ]
    },
    {
      "cell_type": "code",
      "source": [
        "\n",
        "# O que são conjuntos;\n",
        "# Criar conjuntos;\n",
        "# Utilizar o | para juntar conjuntos;\n",
        "# Utilizar o & para juntar apenas números que estão no mesmo conjunto;\n",
        "# Utilizar o - para remover números repetidos que estão nos dois conjuntos;\n",
        "# O que é ou (^) exclusivo."
      ],
      "metadata": {
        "id": "KDwdbdG2ftFl"
      },
      "execution_count": null,
      "outputs": []
    },
    {
      "cell_type": "code",
      "source": [
        "usuarios = {15, 23, 43, 50, 22}\n",
        "len(usuarios)"
      ],
      "metadata": {
        "colab": {
          "base_uri": "https://localhost:8080/"
        },
        "id": "3Pt-1zSFgQa5",
        "outputId": "b53bb4b0-937c-4f0a-f65f-8acfed7da299"
      },
      "execution_count": null,
      "outputs": [
        {
          "output_type": "execute_result",
          "data": {
            "text/plain": [
              "5"
            ]
          },
          "metadata": {},
          "execution_count": 18
        }
      ]
    },
    {
      "cell_type": "code",
      "source": [
        "#Para adicionar elementos nos conjuntos usamos o add()\n",
        "\n",
        "usuarios.add(13)\n",
        "len(usuarios)"
      ],
      "metadata": {
        "colab": {
          "base_uri": "https://localhost:8080/"
        },
        "id": "XKwZ4Vi7hOQs",
        "outputId": "28121560-f5d4-4c04-9869-0fd757950440"
      },
      "execution_count": null,
      "outputs": [
        {
          "output_type": "execute_result",
          "data": {
            "text/plain": [
              "6"
            ]
          },
          "metadata": {},
          "execution_count": 19
        }
      ]
    },
    {
      "cell_type": "code",
      "source": [
        "#Congelar os elementos dentro de um conjunto\n",
        "\n",
        "usuarios = frozenset(usuarios)"
      ],
      "metadata": {
        "id": "aEdFV9mihSp2"
      },
      "execution_count": null,
      "outputs": []
    },
    {
      "cell_type": "code",
      "source": [
        "usuarios"
      ],
      "metadata": {
        "colab": {
          "base_uri": "https://localhost:8080/"
        },
        "id": "Bq2E2iv7hlEo",
        "outputId": "798448c3-1da7-4d71-ca45-5bb3d702ed17"
      },
      "execution_count": null,
      "outputs": [
        {
          "output_type": "execute_result",
          "data": {
            "text/plain": [
              "frozenset({13, 15, 22, 23, 43, 50})"
            ]
          },
          "metadata": {},
          "execution_count": 21
        }
      ]
    },
    {
      "cell_type": "code",
      "source": [
        "meu_texto = \"Bem vindo meu nome é Guilherme eu gosto muito de nomes e tenho o meu cachorro e gosto muito de cachorro\"\n",
        "meu_texto.split()"
      ],
      "metadata": {
        "colab": {
          "base_uri": "https://localhost:8080/"
        },
        "id": "cLixQ5SEhmIE",
        "outputId": "2e2d7baa-bf2e-418e-898b-ffd8121bfa31"
      },
      "execution_count": null,
      "outputs": [
        {
          "output_type": "execute_result",
          "data": {
            "text/plain": [
              "['Bem',\n",
              " 'vindo',\n",
              " 'meu',\n",
              " 'nome',\n",
              " 'é',\n",
              " 'Guilherme',\n",
              " 'eu',\n",
              " 'gosto',\n",
              " 'muito',\n",
              " 'de',\n",
              " 'nomes',\n",
              " 'e',\n",
              " 'tenho',\n",
              " 'o',\n",
              " 'meu',\n",
              " 'cachorro',\n",
              " 'e',\n",
              " 'gosto',\n",
              " 'muito',\n",
              " 'de',\n",
              " 'cachorro']"
            ]
          },
          "metadata": {},
          "execution_count": 22
        }
      ]
    },
    {
      "cell_type": "code",
      "source": [
        "#Criando um dicionário\n",
        "#Separa todas as palavras que aparecem apenas uma vez usando a função set para criar um conjunto\n",
        "\n",
        "set(meu_texto.split())"
      ],
      "metadata": {
        "colab": {
          "base_uri": "https://localhost:8080/"
        },
        "id": "J1WqbshtiPeU",
        "outputId": "47e38346-12f4-44c7-9ddc-67a1421e8b56"
      },
      "execution_count": null,
      "outputs": [
        {
          "output_type": "execute_result",
          "data": {
            "text/plain": [
              "{'Bem',\n",
              " 'Guilherme',\n",
              " 'cachorro',\n",
              " 'de',\n",
              " 'e',\n",
              " 'eu',\n",
              " 'gosto',\n",
              " 'meu',\n",
              " 'muito',\n",
              " 'nome',\n",
              " 'nomes',\n",
              " 'o',\n",
              " 'tenho',\n",
              " 'vindo',\n",
              " 'é'}"
            ]
          },
          "metadata": {},
          "execution_count": 23
        }
      ]
    },
    {
      "cell_type": "code",
      "source": [
        "#Dicionário usa o mesmo parametro, como se fosse criar um conjunto, mas adicionando um valor aos elementos\n",
        "\n",
        "aparicoes = {\n",
        "    \"Guilherme\" : 1,\n",
        "    \"cachorro\" : 2,\n",
        "    \"nome\" : 2,\n",
        "}"
      ],
      "metadata": {
        "id": "PmbkPJ9giR71"
      },
      "execution_count": null,
      "outputs": []
    },
    {
      "cell_type": "code",
      "source": [
        "aparicoes\n",
        "type(aparicoes)"
      ],
      "metadata": {
        "colab": {
          "base_uri": "https://localhost:8080/"
        },
        "id": "FTZ2zUu2jyNE",
        "outputId": "b284fbfd-b1eb-41fa-f584-02aa308a7dc0"
      },
      "execution_count": null,
      "outputs": [
        {
          "output_type": "execute_result",
          "data": {
            "text/plain": [
              "dict"
            ]
          },
          "metadata": {},
          "execution_count": 25
        }
      ]
    },
    {
      "cell_type": "code",
      "source": [
        "for elemento in aparicoes:\n",
        "  print(elemento)"
      ],
      "metadata": {
        "colab": {
          "base_uri": "https://localhost:8080/"
        },
        "id": "-7K_Wxe7j8ZM",
        "outputId": "b6a6130c-1e16-46eb-e1b6-8c4f89aa7548"
      },
      "execution_count": null,
      "outputs": [
        {
          "output_type": "stream",
          "name": "stdout",
          "text": [
            "Guilherme\n",
            "cachorro\n",
            "nome\n"
          ]
        }
      ]
    },
    {
      "cell_type": "code",
      "source": [
        "#Puxando elemento \"Chaves\" do conjunto\n",
        "\n",
        "for elemento in aparicoes.keys():\n",
        "  print(elemento)"
      ],
      "metadata": {
        "colab": {
          "base_uri": "https://localhost:8080/"
        },
        "id": "fbeR6XoulI4M",
        "outputId": "037576e4-674c-4ffb-9431-9a383d2c6100"
      },
      "execution_count": null,
      "outputs": [
        {
          "output_type": "stream",
          "name": "stdout",
          "text": [
            "Guilherme\n",
            "cachorro\n",
            "nome\n"
          ]
        }
      ]
    },
    {
      "cell_type": "code",
      "source": [
        "#Puxando o elemento \"Valores\" do conjunto\n",
        "\n",
        "for elemento in aparicoes.values():\n",
        "  print(elemento)"
      ],
      "metadata": {
        "colab": {
          "base_uri": "https://localhost:8080/"
        },
        "id": "Qp6GLN4FlP_S",
        "outputId": "b11b43d0-204c-4388-aa25-5ba09959a29a"
      },
      "execution_count": null,
      "outputs": [
        {
          "output_type": "stream",
          "name": "stdout",
          "text": [
            "1\n",
            "2\n",
            "2\n"
          ]
        }
      ]
    },
    {
      "cell_type": "code",
      "source": [
        "#Puxando todos os elementos \"Itens\" do conjunto\n",
        "for elemento in aparicoes.items():\n",
        "  print(elemento)"
      ],
      "metadata": {
        "colab": {
          "base_uri": "https://localhost:8080/"
        },
        "id": "1TAjlVBClTWl",
        "outputId": "2ba51b1c-cae8-48a6-e0de-d134abf30f0a"
      },
      "execution_count": null,
      "outputs": [
        {
          "output_type": "stream",
          "name": "stdout",
          "text": [
            "('Guilherme', 1)\n",
            "('cachorro', 2)\n",
            "('nome', 2)\n"
          ]
        }
      ]
    },
    {
      "cell_type": "code",
      "source": [
        "meu_texto = \"Bem vindo meu nome é Guilherme eu gosto muito de nomes e tenho o meu cachorro e gosto muito de cachorro\""
      ],
      "metadata": {
        "id": "GJNXfxEmlWyc"
      },
      "execution_count": null,
      "outputs": []
    },
    {
      "cell_type": "code",
      "source": [
        "meu_texto = meu_texto.lower()"
      ],
      "metadata": {
        "id": "HUpRvmQwh5CT"
      },
      "execution_count": null,
      "outputs": []
    },
    {
      "cell_type": "code",
      "source": [
        "#Contando aparições de elementos em um texto especifico\n",
        "\n",
        "meu_texto.split()\n",
        "aparicoes = {}\n",
        "\n",
        "for palavra in meu_texto.split():\n",
        "  ate_agora = aparicoes.get(palavra, 0)\n",
        "  aparicoes[palavra] = ate_agora+1\n",
        "\n",
        "aparicoes\n"
      ],
      "metadata": {
        "colab": {
          "base_uri": "https://localhost:8080/"
        },
        "id": "vt0aQxK-h7Gd",
        "outputId": "0ffeca0c-9ff7-4f41-91f7-eb4b5cecf34d"
      },
      "execution_count": null,
      "outputs": [
        {
          "output_type": "execute_result",
          "data": {
            "text/plain": [
              "{'bem': 1,\n",
              " 'vindo': 1,\n",
              " 'meu': 2,\n",
              " 'nome': 1,\n",
              " 'é': 1,\n",
              " 'guilherme': 1,\n",
              " 'eu': 1,\n",
              " 'gosto': 2,\n",
              " 'muito': 2,\n",
              " 'de': 2,\n",
              " 'nomes': 1,\n",
              " 'e': 2,\n",
              " 'tenho': 1,\n",
              " 'o': 1,\n",
              " 'cachorro': 2}"
            ]
          },
          "metadata": {},
          "execution_count": 39
        }
      ]
    },
    {
      "cell_type": "code",
      "source": [
        "from collections import defaultdict\n",
        "\n",
        "aparicoes = defaultdict(int)\n",
        "\n",
        "for palavra in meu_texto.split():\n",
        "  aparicoes[palavra] += 1\n",
        "\n",
        "aparicoes\n"
      ],
      "metadata": {
        "colab": {
          "base_uri": "https://localhost:8080/"
        },
        "id": "ZI3B74Goh_j8",
        "outputId": "b0660595-c4f7-4ec8-f716-e704985f9c13"
      },
      "execution_count": null,
      "outputs": [
        {
          "output_type": "execute_result",
          "data": {
            "text/plain": [
              "defaultdict(int,\n",
              "            {'bem': 1,\n",
              "             'vindo': 1,\n",
              "             'meu': 2,\n",
              "             'nome': 1,\n",
              "             'é': 1,\n",
              "             'guilherme': 1,\n",
              "             'eu': 1,\n",
              "             'gosto': 2,\n",
              "             'muito': 2,\n",
              "             'de': 2,\n",
              "             'nomes': 1,\n",
              "             'e': 2,\n",
              "             'tenho': 1,\n",
              "             'o': 1,\n",
              "             'cachorro': 2})"
            ]
          },
          "metadata": {},
          "execution_count": 42
        }
      ]
    },
    {
      "cell_type": "code",
      "source": [
        "from collections import Counter"
      ],
      "metadata": {
        "id": "teDpPrXVjaQQ"
      },
      "execution_count": null,
      "outputs": []
    },
    {
      "cell_type": "code",
      "source": [
        "aparicoes = Counter(meu_texto.split())\n"
      ],
      "metadata": {
        "id": "hzJYlKfdmFYW"
      },
      "execution_count": null,
      "outputs": []
    },
    {
      "cell_type": "code",
      "source": [
        "aparicoes\n"
      ],
      "metadata": {
        "colab": {
          "base_uri": "https://localhost:8080/"
        },
        "id": "rILrq4p2mPwW",
        "outputId": "3bb7b5f0-17e2-42d6-e8f9-653585514e34"
      },
      "execution_count": null,
      "outputs": [
        {
          "output_type": "execute_result",
          "data": {
            "text/plain": [
              "Counter({'bem': 1,\n",
              "         'vindo': 1,\n",
              "         'meu': 2,\n",
              "         'nome': 1,\n",
              "         'é': 1,\n",
              "         'guilherme': 1,\n",
              "         'eu': 1,\n",
              "         'gosto': 2,\n",
              "         'muito': 2,\n",
              "         'de': 2,\n",
              "         'nomes': 1,\n",
              "         'e': 2,\n",
              "         'tenho': 1,\n",
              "         'o': 1,\n",
              "         'cachorro': 2})"
            ]
          },
          "metadata": {},
          "execution_count": 47
        }
      ]
    },
    {
      "cell_type": "code",
      "source": [],
      "metadata": {
        "id": "9NN8NKIlmS1G"
      },
      "execution_count": null,
      "outputs": []
    },
    {
      "cell_type": "markdown",
      "source": [
        "Testando o uso de diversas coleções"
      ],
      "metadata": {
        "id": "JsPDWYQ6m0vc"
      }
    },
    {
      "cell_type": "code",
      "source": [
        "texto1 = \"\"\"\n",
        "Gaivota é o nome dado a diferentes espécies de aves marinhas que fazem parte da família Laridae. O termo ave marinha é utilizado para se referir às aves que conseguem seu alimento desde a linha de baixa-mar até o mar aberto. O ambiente marinho é fundamental para sua sobrevivência. As aves marinhas são classificadas em dois grupos: aves marinhas oceânicas e aves marinhas costeiras.\n",
        "\n",
        "Quando falamos de aves marinhas oceânicas, nos referimos às espécies que conseguem seu alimento especialmente no mar e se reproduzem e descansam em ilhas oceânicas. As gaivotas são aves marinhas costeiras, pois conseguem seu alimento e se reproduzem em regiões dentro dos limites da plataforma continental e adjacências.\"\n",
        "\n",
        "Veja mais sobre \"Gaivota\" em: https://brasilescola.uol.com.br/animais/gaivota.htm\n",
        "\"\"\""
      ],
      "metadata": {
        "id": "6pmD5rRlm5w6"
      },
      "execution_count": null,
      "outputs": []
    },
    {
      "cell_type": "code",
      "source": [
        "texto2 = \"\"\"\"O leão é um mamífero pertencente à ordem Carnivora e família Felidae, sendo conhecido como “rei das selvas”. Ele se alimenta de outros animais, como gnus e zebras, e vive em grupos, que apresentam divisões bem marcadas, sendo o macho responsável pela defesa do grupo e a fêmea pela caça e cuidado com os filhotes.\n",
        "\n",
        "Apesar de serem admirados por sua força, atualmente as populações de leões estão em declínio, sendo a espécie classificada como vulnerável pela IUCN (sigla em inglês para União Internacional para a Conservação da Natureza). Os leões costumam ser divididos em subpopulações asiáticas e subpopulações africanas. Neste texto falaremos mais a respeito do leão-africano.\"\n",
        "\n",
        "Veja mais sobre \"Leão\" em: https://brasilescola.uol.com.br/animais/leao.htm\"Segundo maior felino do mundo, o leão perde em tamanho apenas para o tigre. Os leões apresentam de 1,37 a 2 m de tamanho (corpo e cabeça), e sua cauda pode atingir até 100 cm de comprimento. O peso varia entre 120 e 190 quilos, mas vale destacar que já foram descritos indivíduos com mais de 250 kg. O maior leão já encontrado pesava 272 kg.\n",
        "\n",
        "Os leões apresentam uma pelagem amarela dourada, a qual é importante para garantir a camuflagem em meio à vegetação da savana. Quando jovens, apresentam manchas claras em sua pelagem, as quais desaparecem à medida que se tornam mais velhos. Os machos se destacam pela presença de jubas, pelos longos localizados ao redor de sua cabeça. Algumas fêmeas podem apresentar jubas, mas não se sabe por que isso ocorre.\"\n",
        "\n",
        "Veja mais sobre \"Leão\" em: https://brasilescola.uol.com.br/animais/leao.htm\"\"\""
      ],
      "metadata": {
        "id": "9lxsCrkpn4_M"
      },
      "execution_count": null,
      "outputs": []
    },
    {
      "cell_type": "code",
      "source": [
        "def analisa_freq(texto):\n",
        "\n",
        "  aparicoes = Counter(texto.lower())\n",
        "  total_de_caracteres = sum(aparicoes.values())\n",
        "\n",
        "  total = [(letra, frequencia / total_de_caracteres) for letra, frequencia in aparicoes.items()]\n",
        "\n",
        "  total = Counter(dict(total))\n",
        "  return total.most_common(10)\n",
        "\n",
        ""
      ],
      "metadata": {
        "id": "9tvYeZqRpVRS"
      },
      "execution_count": null,
      "outputs": []
    },
    {
      "cell_type": "code",
      "source": [
        "analisa_freq(texto1)"
      ],
      "metadata": {
        "colab": {
          "base_uri": "https://localhost:8080/"
        },
        "id": "j-Z1V7JGpyyH",
        "outputId": "a33f026f-86a3-4e39-faa6-0e8a899ebcc6"
      },
      "execution_count": null,
      "outputs": [
        {
          "output_type": "execute_result",
          "data": {
            "text/plain": [
              "[(' ', 0.14538558786346398),\n",
              " ('a', 0.11757269279393173),\n",
              " ('e', 0.10493046776232617),\n",
              " ('s', 0.08470290771175727),\n",
              " ('i', 0.061946902654867256),\n",
              " ('o', 0.05815423514538559),\n",
              " ('m', 0.0493046776232617),\n",
              " ('r', 0.04677623261694058),\n",
              " ('n', 0.04424778761061947),\n",
              " ('t', 0.03286978508217446)]"
            ]
          },
          "metadata": {},
          "execution_count": 123
        }
      ]
    },
    {
      "cell_type": "code",
      "source": [],
      "metadata": {
        "id": "dKJf1DmwwLzG"
      },
      "execution_count": null,
      "outputs": []
    }
  ]
}